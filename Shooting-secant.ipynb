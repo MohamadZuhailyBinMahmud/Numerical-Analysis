{
 "cells": [
  {
   "cell_type": "code",
   "execution_count": 11,
   "metadata": {},
   "outputs": [
    {
     "ename": "ValueError",
     "evalue": "x0 must not be None for secant",
     "output_type": "error",
     "traceback": [
      "\u001b[0;31m---------------------------------------------------------------------------\u001b[0m",
      "\u001b[0;31mValueError\u001b[0m                                Traceback (most recent call last)",
      "Cell \u001b[0;32mIn[11], line 31\u001b[0m\n\u001b[1;32m     27\u001b[0m y_1 , v_1 \u001b[39m=\u001b[39m sol_1\u001b[39m.\u001b[39my\n\u001b[1;32m     29\u001b[0m theoretical \u001b[39m=\u001b[39m g(x_step)\n\u001b[0;32m---> 31\u001b[0m root \u001b[39m=\u001b[39m root_scalar(f,[\u001b[39m0.5\u001b[39;49m],method\u001b[39m=\u001b[39;49m\u001b[39m\"\u001b[39;49m\u001b[39msecant\u001b[39;49m\u001b[39m\"\u001b[39;49m,)\n\u001b[1;32m     32\u001b[0m \u001b[39mprint\u001b[39m(root)\n",
      "File \u001b[0;32m~/miniconda3/envs/tensor/lib/python3.10/site-packages/scipy/optimize/_root_scalar.py:252\u001b[0m, in \u001b[0;36mroot_scalar\u001b[0;34m(f, args, method, bracket, fprime, fprime2, x0, x1, xtol, rtol, maxiter, options)\u001b[0m\n\u001b[1;32m    250\u001b[0m \u001b[39melif\u001b[39;00m meth \u001b[39min\u001b[39;00m [\u001b[39m'\u001b[39m\u001b[39msecant\u001b[39m\u001b[39m'\u001b[39m]:\n\u001b[1;32m    251\u001b[0m     \u001b[39mif\u001b[39;00m x0 \u001b[39mis\u001b[39;00m \u001b[39mNone\u001b[39;00m:\n\u001b[0;32m--> 252\u001b[0m         \u001b[39mraise\u001b[39;00m \u001b[39mValueError\u001b[39;00m(\u001b[39m'\u001b[39m\u001b[39mx0 must not be None for \u001b[39m\u001b[39m%s\u001b[39;00m\u001b[39m'\u001b[39m \u001b[39m%\u001b[39m method)\n\u001b[1;32m    253\u001b[0m     \u001b[39mif\u001b[39;00m x1 \u001b[39mis\u001b[39;00m \u001b[39mNone\u001b[39;00m:\n\u001b[1;32m    254\u001b[0m         \u001b[39mraise\u001b[39;00m \u001b[39mValueError\u001b[39;00m(\u001b[39m'\u001b[39m\u001b[39mx1 must not be None for \u001b[39m\u001b[39m%s\u001b[39;00m\u001b[39m'\u001b[39m \u001b[39m%\u001b[39m method)\n",
      "\u001b[0;31mValueError\u001b[0m: x0 must not be None for secant"
     ]
    }
   ],
   "source": [
    "from numpy import arange as ar\n",
    "from scipy.integrate import solve_ivp as solve\n",
    "from matplotlib.pyplot import plot as plt\n",
    "\n",
    "y_init = 1\n",
    "y_final = 4/9\n",
    "h = 0.1\n",
    "x_init = 0\n",
    "x_final = 0.5 + 0.1\n",
    "x_step = ar(x_init,x_final,h)\n",
    "dy_guess = -1.8\n",
    "\n",
    "def f(t,r):\n",
    "    y , v = r\n",
    "    dy_dt = v\n",
    "    dv_dt = 6*(y**2)\n",
    "    return dy_dt , dv_dt\n",
    "\n",
    "def g(x):\n",
    "    return (1)/((1+x)**2)\n",
    "\n",
    "sol =solve(f,(x_init,x_final),(y_init,dy_guess),t_eval=x_step)\n",
    "y , v = sol.y\n",
    "theoretical = g(x_step)\n",
    "plt(x_step,y,color='red')\n",
    "plt(x_step,theoretical,color='blue')\n",
    "print(y[len(y)-1])\n",
    "print(g(x_step))\n",
    "print(theoretical-y)\n",
    "\n",
    "#print(g(x_step))"
   ]
  }
 ],
 "metadata": {
  "kernelspec": {
   "display_name": "tensor",
   "language": "python",
   "name": "python3"
  },
  "language_info": {
   "codemirror_mode": {
    "name": "ipython",
    "version": 3
   },
   "file_extension": ".py",
   "mimetype": "text/x-python",
   "name": "python",
   "nbconvert_exporter": "python",
   "pygments_lexer": "ipython3",
   "version": "3.10.8 | packaged by conda-forge | (main, Nov 22 2022, 08:23:14) [GCC 10.4.0]"
  },
  "orig_nbformat": 4,
  "vscode": {
   "interpreter": {
    "hash": "deebd810051e21425d6aa072c8ff11a0baa6be63b076e2af46e1659ca95ecaed"
   }
  }
 },
 "nbformat": 4,
 "nbformat_minor": 2
}
